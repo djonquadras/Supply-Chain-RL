{
 "cells": [
  {
   "cell_type": "code",
   "execution_count": 12,
   "metadata": {},
   "outputs": [
    {
     "data": {
      "text/plain": [
       "array([26.325 , 21.9388, 17.55  , 21.9388])"
      ]
     },
     "execution_count": 12,
     "metadata": {},
     "output_type": "execute_result"
    }
   ],
   "source": [
    "import numpy as np\n",
    "\n",
    "demand1 = np.array([32700, 27375, 21800, 27375], dtype=np.float64)\n",
    "demand2 = np.array([16350, 13625, 10900, 13625], dtype=np.float64)\n",
    "demand3 = np.array([11250, 9375, 7500, 9375], dtype=np.float64)\n",
    "demand4 = np.array([10125, 8438, 6750, 8438], dtype=np.float64)\n",
    "demand5 = np.array([4575, 3813, 3050, 3563], dtype=np.float64)\n",
    "\n",
    "demand4/30/100*1.3*6"
   ]
  },
  {
   "cell_type": "code",
   "execution_count": 7,
   "metadata": {},
   "outputs": [
    {
     "name": "stdout",
     "output_type": "stream",
     "text": [
      "TotalCost = 413.13959070178606\n",
      "StockCost = 377.2581230405423\n",
      "emissionsCost = 35.88146766124378\n",
      "LostSalesCost = 0.0\n"
     ]
    }
   ],
   "source": [
    "import pandas as pd\n",
    "import numpy as np \n",
    "from runGA import SupplyChainEnv\n",
    "\n",
    "results = pd.read_excel(\"Results/GA/results.xlsx\")\n",
    "\n",
    "\n",
    "array = np.fromstring(results.iloc[0,2].strip(\"[]\"), sep=\" \")\n",
    "\n",
    "\n",
    "env = SupplyChainEnv()\n",
    "reward = env.step(array)\n",
    "\n",
    "# Exibir resultado\n",
    "print(f\"TotalCost = {env.statistics['TotalCost']}\")\n",
    "print(f\"StockCost = {env.statistics['StockCost']}\")\n",
    "print(f\"emissionsCost = {env.statistics['emissionsCost']}\")\n",
    "print(f\"LostSalesCost = {env.statistics['LostSalesCost']}\")\n"
   ]
  },
  {
   "cell_type": "code",
   "execution_count": 2,
   "metadata": {},
   "outputs": [
    {
     "name": "stderr",
     "output_type": "stream",
     "text": [
      "C:\\Users\\djonq\\AppData\\Local\\Temp\\ipykernel_3744\\2007204041.py:10: RuntimeWarning: divide by zero encountered in divide\n",
      "  (a / b ) -1  # Caso normal\n",
      "C:\\Users\\djonq\\AppData\\Local\\Temp\\ipykernel_3744\\2007204041.py:10: RuntimeWarning: invalid value encountered in divide\n",
      "  (a / b ) -1  # Caso normal\n"
     ]
    },
    {
     "data": {
      "text/plain": [
       "array([10, 20,  0, 40,  0])"
      ]
     },
     "execution_count": 2,
     "metadata": {},
     "output_type": "execute_result"
    }
   ],
   "source": [
    "import numpy as np\n",
    "\n",
    "a = np.array([10, 20, 0, 40, 0])  # Valores finais\n",
    "b = np.array([2,  0,  0, 20, 5])  # Valores iniciais\n",
    "\n",
    "# Cálculo da variação relativa: (a - b) / b\n",
    "variação = np.where(\n",
    "    b == 0, \n",
    "    np.where(a == 0, 0, 1),  # Se b == 0 e a == 0 → 0%, senão → 100% (ou 1)\n",
    "    (a / b ) -1  # Caso normal\n",
    ")\n",
    "\n",
    "a.copy()\n"
   ]
  },
  {
   "cell_type": "code",
   "execution_count": 1,
   "metadata": {},
   "outputs": [
    {
     "data": {
      "text/plain": [
       "array([20, 20, 30])"
      ]
     },
     "execution_count": 1,
     "metadata": {},
     "output_type": "execute_result"
    }
   ],
   "source": [
    "import numpy as np\n",
    "\n",
    "a = np.array([0,10,30])\n",
    "\n",
    "np.maximum(a, 20)"
   ]
  },
  {
   "cell_type": "code",
   "execution_count": 2,
   "metadata": {},
   "outputs": [
    {
     "data": {
      "text/plain": [
       "20"
      ]
     },
     "execution_count": 2,
     "metadata": {},
     "output_type": "execute_result"
    }
   ],
   "source": [
    "import numpy as np\n",
    "\n",
    "a = np.full((5, 4), 300, dtype=float)\n",
    "b = np.array([i for i in range(20)], dtype=float)\n",
    "\n",
    "c= a.flatten()*b\n",
    "\n",
    "C = c.reshape((5,4))\n",
    "\n",
    "C.size"
   ]
  },
  {
   "cell_type": "code",
   "execution_count": 3,
   "metadata": {},
   "outputs": [
    {
     "data": {
      "text/plain": [
       "array([400., 400., 400., 400., 400.])"
      ]
     },
     "execution_count": 3,
     "metadata": {},
     "output_type": "execute_result"
    }
   ],
   "source": [
    "import numpy as np\n",
    "a = np.full(5, 1000, dtype=int)\n",
    "\n",
    "a*0.4"
   ]
  },
  {
   "cell_type": "code",
   "execution_count": 21,
   "metadata": {},
   "outputs": [
    {
     "data": {
      "text/plain": [
       "array([165, 265, 365, 400])"
      ]
     },
     "execution_count": 21,
     "metadata": {},
     "output_type": "execute_result"
    }
   ],
   "source": [
    "d[:-1] += 65\n",
    "d"
   ]
  },
  {
   "cell_type": "code",
   "execution_count": 11,
   "metadata": {},
   "outputs": [
    {
     "name": "stdout",
     "output_type": "stream",
     "text": [
      "[300, 100, 50]\n"
     ]
    }
   ],
   "source": [
    "def calcular_producao_possivel(order, stock):\n",
    "    # Calcula a produção possível para cada item\n",
    "    producao_possivel = [min(o, s) for o, s in zip(order, stock)]\n",
    "    return producao_possivel\n",
    "\n",
    "# Exemplo de uso\n",
    "order = [300, 200, 100]\n",
    "stock = [500, 100, 50]\n",
    "\n",
    "# Chama a função para calcular a produção possível\n",
    "producao_possivel = calcular_producao_possivel(order, stock)\n",
    "\n",
    "print(producao_possivel)\n"
   ]
  },
  {
   "cell_type": "code",
   "execution_count": 1,
   "metadata": {},
   "outputs": [
    {
     "data": {
      "text/plain": [
       "array([], dtype=float64)"
      ]
     },
     "execution_count": 1,
     "metadata": {},
     "output_type": "execute_result"
    }
   ],
   "source": [
    "import numpy as np\n",
    "\n",
    "np.array([])\n"
   ]
  }
 ],
 "metadata": {
  "kernelspec": {
   "display_name": ".env",
   "language": "python",
   "name": "python3"
  },
  "language_info": {
   "codemirror_mode": {
    "name": "ipython",
    "version": 3
   },
   "file_extension": ".py",
   "mimetype": "text/x-python",
   "name": "python",
   "nbconvert_exporter": "python",
   "pygments_lexer": "ipython3",
   "version": "3.9.13"
  }
 },
 "nbformat": 4,
 "nbformat_minor": 2
}
