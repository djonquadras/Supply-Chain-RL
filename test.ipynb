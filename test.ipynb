{
 "cells": [
  {
   "cell_type": "code",
   "execution_count": 13,
   "metadata": {},
   "outputs": [
    {
     "data": {
      "text/plain": [
       "array([0.22222222, 2.        , 3.        , 2.        ])"
      ]
     },
     "execution_count": 13,
     "metadata": {},
     "output_type": "execute_result"
    }
   ],
   "source": [
    "import numpy as np\n",
    "from math import ceil\n",
    "\n",
    "a = np.array([110,9,12,6])\n",
    "b = np.array([90, 3, 3, 2])\n",
    "\n",
    "\n",
    "\n",
    "\n",
    "\n"
   ]
  },
  {
   "cell_type": "code",
   "execution_count": 25,
   "metadata": {},
   "outputs": [
    {
     "name": "stdout",
     "output_type": "stream",
     "text": [
      "[ 4.  1.  0.  1. -1.]\n"
     ]
    },
    {
     "name": "stderr",
     "output_type": "stream",
     "text": [
      "C:\\Users\\djonq\\AppData\\Local\\Temp\\ipykernel_6820\\3154895112.py:10: RuntimeWarning: divide by zero encountered in divide\n",
      "  (a / b ) -1  # Caso normal\n",
      "C:\\Users\\djonq\\AppData\\Local\\Temp\\ipykernel_6820\\3154895112.py:10: RuntimeWarning: invalid value encountered in divide\n",
      "  (a / b ) -1  # Caso normal\n"
     ]
    }
   ],
   "source": [
    "import numpy as np\n",
    "\n",
    "a = np.array([10, 20, 0, 40, 0])  # Valores finais\n",
    "b = np.array([2,  0,  0, 20, 5])  # Valores iniciais\n",
    "\n",
    "# Cálculo da variação relativa: (a - b) / b\n",
    "variação = np.where(\n",
    "    b == 0, \n",
    "    np.where(a == 0, 0, 1),  # Se b == 0 e a == 0 → 0%, senão → 100% (ou 1)\n",
    "    (a / b ) -1  # Caso normal\n",
    ")\n",
    "\n",
    "print(variação)\n"
   ]
  },
  {
   "cell_type": "code",
   "execution_count": 4,
   "metadata": {},
   "outputs": [
    {
     "name": "stdout",
     "output_type": "stream",
     "text": [
      "action[5:9]\n",
      "action[9:13]\n",
      "action[13:17]\n",
      "action[17:21]\n",
      "action[21:25]\n"
     ]
    }
   ],
   "source": [
    "for i in range(5):\n",
    "    print(f\"action[{(i*4)+5}:{(i*4)+9}]\")\n"
   ]
  },
  {
   "cell_type": "code",
   "execution_count": 3,
   "metadata": {},
   "outputs": [
    {
     "data": {
      "text/plain": [
       "4"
      ]
     },
     "execution_count": 3,
     "metadata": {},
     "output_type": "execute_result"
    }
   ],
   "source": [
    "9-5"
   ]
  }
 ],
 "metadata": {
  "kernelspec": {
   "display_name": ".env",
   "language": "python",
   "name": "python3"
  },
  "language_info": {
   "codemirror_mode": {
    "name": "ipython",
    "version": 3
   },
   "file_extension": ".py",
   "mimetype": "text/x-python",
   "name": "python",
   "nbconvert_exporter": "python",
   "pygments_lexer": "ipython3",
   "version": "3.9.13"
  }
 },
 "nbformat": 4,
 "nbformat_minor": 2
}
